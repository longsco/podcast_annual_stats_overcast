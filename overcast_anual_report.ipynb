{
 "cells": [
  {
   "cell_type": "code",
   "execution_count": null,
   "id": "b4771051-77be-4d1e-a7e4-ebd92fab9060",
   "metadata": {},
   "outputs": [],
   "source": [
    "import xml.etree.ElementTree as ET\n",
    "from mutagen.mp4 import MP4\n",
    "from mutagen.mp3 import MP3\n",
    "from datetime import datetime\n",
    "import requests\n",
    "from io import BytesIO\n",
    "import pandas as pd\n",
    "import logging\n",
    "import seaborn as sns\n",
    "import matplotlib.pyplot as plt\n",
    "plt.rcParams['font.sans-serif'] = ['SimHei']\n",
    "plt.rcParams['font.family'] = ['Heiti TC']\n",
    "logger = logging.getLogger()\n",
    "logger.setLevel(logging.INFO)"
   ]
  },
  {
   "cell_type": "code",
   "execution_count": null,
   "id": "d32b2935-8f18-49a6-9123-88048e08673c",
   "metadata": {},
   "outputs": [],
   "source": [
    "def parse_overcast(opml_file, year, previous_df=None):\n",
    "    tree = ET.parse(opml_file)\n",
    "    if previous_df is not None:\n",
    "        df = pd.read_csv(previous_df)\n",
    "        df['updatedate'] = None\n",
    "    else:\n",
    "        df = pd.DataFrame(columns=['name', 'url', 'title', 'length', 'pubdate', 'audio_url', 'updatedate'])\n",
    "    name, url = None, None\n",
    "    for node in tree.iter('outline'):\n",
    "        if node.attrib.get('type') == 'rss':\n",
    "            name = node.attrib.get('text')\n",
    "            url = node.attrib.get('xmlUrl')        \n",
    "            logging.info('%s(%s)' % (name, url))\n",
    "        elif node.attrib.get('type') == 'podcast-episode':\n",
    "            if node.attrib.get('played') == '1':\n",
    "                title = node.attrib.get('title')\n",
    "                enclosureurl = node.attrib.get('enclosureUrl')\n",
    "                pubdate = node.attrib.get('pubDate')\n",
    "                updatedate = node.attrib.get('userUpdatedDate')\n",
    "                dt = datetime.strptime(updatedate, '%Y-%m-%dT%H:%M:%S%z')\n",
    "                if dt.year != year:\n",
    "                    continue\n",
    "                check_exist = df.query(\"(name == \\\"%s\\\") & (title == \\\"%s\\\")\" % (name, title))\n",
    "                if len(check_exist) > 0:\n",
    "                    df.loc[(df['name'] == name) & (df['title'] == title), 'updatedate'] = updatedate\n",
    "                    continue\n",
    "                logging.info('  %s' % title)\n",
    "                try:\n",
    "                    response = requests.get(enclosureurl)\n",
    "                    obj = BytesIO(response.content)\n",
    "                    if \"mp3\" in enclosureurl: \n",
    "                        audio = MP3(obj)\n",
    "                    elif \"m4a\" in enclosureurl:\n",
    "                        audio = MP4(obj)\n",
    "                    line = {}\n",
    "                    line['name'] = name\n",
    "                    line['url'] = url\n",
    "                    line['title'] = title\n",
    "                    line['length'] = audio.info.length\n",
    "                    line['pubdate'] = pubdate\n",
    "                    line['audio_url'] = enclosureurl\n",
    "                    df = pd.concat([df, pd.DataFrame.from_records([line])])\n",
    "                except:\n",
    "                    logging.error('Error', enclosureurl)\n",
    "    return df"
   ]
  },
  {
   "cell_type": "code",
   "execution_count": null,
   "id": "7431dd1b-3a4a-43c4-a298-217d97e7fe56",
   "metadata": {},
   "outputs": [],
   "source": [
    "def plot_df(df, year):\n",
    "    df['year'] = pd.to_datetime(df['updatedate'], utc=True).dt.year\n",
    "    df = df[df['year'] == int(year)]\n",
    "    df_plot = df.groupby('name', as_index=False)['length'].sum()\n",
    "    df_plot['length'] = df_plot['length']/3600\n",
    "    df_plot = df_plot.sort_values(by='length', ascending=False)\n",
    "    print('Total hours: %.1f (%.1f days)' % (df_plot.length.sum(), df_plot.length.sum()/24))\n",
    "    df_plot = df_plot.iloc[:20]\n",
    "    values = df_plot['length'].values\n",
    "    labels = df_plot['name'].astype(str).values\n",
    "    plt.figure(figsize = (200, 100))\n",
    "    ax = sns.barplot(x='name', y='length', data=df_plot)\n",
    "    ax.set_xticklabels(ax.get_xticklabels(), rotation=70, fontsize=80)\n",
    "    ax.bar_label(ax.containers[0], fontsize=80)"
   ]
  },
  {
   "cell_type": "code",
   "execution_count": null,
   "id": "e7b90315-a1ec-4391-8c5e-f1b3129ef789",
   "metadata": {},
   "outputs": [],
   "source": [
    "export_filename = \"overcast.opml\"\n",
    "dataframe_name = \"pod_2022.csv\"\n",
    "year = 2022"
   ]
  },
  {
   "cell_type": "code",
   "execution_count": null,
   "id": "e5f918be-6ec2-4a4a-8ca1-453f145c34ef",
   "metadata": {},
   "outputs": [],
   "source": [
    "df = parse_overcast(export_filename, year, dataframe_name)"
   ]
  },
  {
   "cell_type": "code",
   "execution_count": null,
   "id": "d642f06d-3d33-400b-b8a5-237602354a73",
   "metadata": {},
   "outputs": [],
   "source": [
    "df.to_csv(dataframe_name, index=False)"
   ]
  },
  {
   "cell_type": "code",
   "execution_count": null,
   "id": "43753f00-c840-4476-9e02-00f761dfbdb6",
   "metadata": {},
   "outputs": [],
   "source": [
    "plot_df(df, year)"
   ]
  }
 ],
 "metadata": {
  "kernelspec": {
   "display_name": "Python 3 (ipykernel)",
   "language": "python",
   "name": "python3"
  },
  "language_info": {
   "codemirror_mode": {
    "name": "ipython",
    "version": 3
   },
   "file_extension": ".py",
   "mimetype": "text/x-python",
   "name": "python",
   "nbconvert_exporter": "python",
   "pygments_lexer": "ipython3",
   "version": "3.9.11"
  }
 },
 "nbformat": 4,
 "nbformat_minor": 5
}
